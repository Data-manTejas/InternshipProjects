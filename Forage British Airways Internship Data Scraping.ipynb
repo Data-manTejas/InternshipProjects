{
 "cells": [
  {
   "cell_type": "code",
   "execution_count": 1,
   "id": "cc8a7464",
   "metadata": {},
   "outputs": [],
   "source": [
    "import pandas as pd\n",
    "import numpy as ny\n",
    "import requests\n",
    "from bs4 import BeautifulSoup\n",
    "import string\n",
    "import seaborn as sns\n",
    "import matplotlib.pyplot as plt"
   ]
  },
  {
   "cell_type": "code",
   "execution_count": 3,
   "id": "7e83738b",
   "metadata": {},
   "outputs": [
    {
     "name": "stdout",
     "output_type": "stream",
     "text": [
      "Scraping page 1\n",
      "    --->100total reviews\n",
      "Scraping page 2\n",
      "    --->200total reviews\n",
      "Scraping page 3\n",
      "    --->300total reviews\n",
      "Scraping page 4\n",
      "    --->400total reviews\n",
      "Scraping page 5\n",
      "    --->500total reviews\n",
      "Scraping page 6\n",
      "    --->600total reviews\n",
      "Scraping page 7\n",
      "    --->700total reviews\n",
      "Scraping page 8\n",
      "    --->800total reviews\n",
      "Scraping page 9\n",
      "    --->900total reviews\n",
      "Scraping page 10\n",
      "    --->1000total reviews\n",
      "Scraping page 11\n",
      "    --->1100total reviews\n",
      "Scraping page 12\n",
      "    --->1200total reviews\n",
      "Scraping page 13\n",
      "    --->1300total reviews\n",
      "Scraping page 14\n",
      "    --->1400total reviews\n",
      "Scraping page 15\n",
      "    --->1500total reviews\n",
      "Scraping page 16\n",
      "    --->1600total reviews\n",
      "Scraping page 17\n",
      "    --->1700total reviews\n",
      "Scraping page 18\n",
      "    --->1800total reviews\n",
      "Scraping page 19\n",
      "    --->1900total reviews\n",
      "Scraping page 20\n",
      "    --->2000total reviews\n",
      "Scraping page 21\n",
      "    --->2100total reviews\n",
      "Scraping page 22\n",
      "    --->2200total reviews\n",
      "Scraping page 23\n",
      "    --->2300total reviews\n",
      "Scraping page 24\n",
      "    --->2400total reviews\n",
      "Scraping page 25\n",
      "    --->2500total reviews\n",
      "Scraping page 26\n",
      "    --->2600total reviews\n",
      "Scraping page 27\n",
      "    --->2700total reviews\n",
      "Scraping page 28\n",
      "    --->2800total reviews\n",
      "Scraping page 29\n",
      "    --->2900total reviews\n",
      "Scraping page 30\n",
      "    --->3000total reviews\n",
      "Scraping page 31\n",
      "    --->3100total reviews\n",
      "Scraping page 32\n",
      "    --->3200total reviews\n",
      "Scraping page 33\n",
      "    --->3300total reviews\n",
      "Scraping page 34\n",
      "    --->3400total reviews\n",
      "Scraping page 35\n",
      "    --->3500total reviews\n",
      "Scraping page 36\n",
      "    --->3600total reviews\n",
      "Scraping page 37\n",
      "    --->3619total reviews\n"
     ]
    }
   ],
   "source": [
    "base_url='https://www.airlinequality.com/airline-reviews/british-airways'\n",
    "pages=37\n",
    "page_size=100\n",
    "reviews=[]\n",
    "for i in range(1,pages+1):\n",
    "    #for i in range(1,pages+1):\n",
    "    \n",
    "    print(f\"Scraping page {i}\")\n",
    "    \n",
    "    #Create URL to collect links from paginated data\n",
    "    url=f\"{base_url}/page/{i}/?sortby=post_date%3ADesc&pagesize={page_size}\"\n",
    "    \n",
    "    #Collect HTML data from this page\n",
    "    response=requests.get(url)\n",
    "    \n",
    "    #Parse content\n",
    "    content=response.content\n",
    "    parsed_content=BeautifulSoup(content,'html.parser')\n",
    "    for para in parsed_content.find_all(\"div\",{\"class\":\"text_content\"}):\n",
    "        reviews.append(para.get_text())\n",
    "        \n",
    "    print(f\"    --->{len(reviews)}total reviews\")"
   ]
  },
  {
   "cell_type": "code",
   "execution_count": 4,
   "id": "8f54b51b",
   "metadata": {},
   "outputs": [
    {
     "data": {
      "text/html": [
       "<div>\n",
       "<style scoped>\n",
       "    .dataframe tbody tr th:only-of-type {\n",
       "        vertical-align: middle;\n",
       "    }\n",
       "\n",
       "    .dataframe tbody tr th {\n",
       "        vertical-align: top;\n",
       "    }\n",
       "\n",
       "    .dataframe thead th {\n",
       "        text-align: right;\n",
       "    }\n",
       "</style>\n",
       "<table border=\"1\" class=\"dataframe\">\n",
       "  <thead>\n",
       "    <tr style=\"text-align: right;\">\n",
       "      <th></th>\n",
       "      <th>reviews</th>\n",
       "    </tr>\n",
       "  </thead>\n",
       "  <tbody>\n",
       "    <tr>\n",
       "      <th>0</th>\n",
       "      <td>Not Verified |  They lost my baggage in a very...</td>\n",
       "    </tr>\n",
       "    <tr>\n",
       "      <th>1</th>\n",
       "      <td>✅ Trip Verified |  Late boarding led to a one ...</td>\n",
       "    </tr>\n",
       "    <tr>\n",
       "      <th>2</th>\n",
       "      <td>✅ Trip Verified | As usual the flight is delay...</td>\n",
       "    </tr>\n",
       "    <tr>\n",
       "      <th>3</th>\n",
       "      <td>✅ Trip Verified |  I had the most fantastic BA...</td>\n",
       "    </tr>\n",
       "    <tr>\n",
       "      <th>4</th>\n",
       "      <td>✅ Trip Verified |  Couldn’t book in online. Ar...</td>\n",
       "    </tr>\n",
       "    <tr>\n",
       "      <th>...</th>\n",
       "      <td>...</td>\n",
       "    </tr>\n",
       "    <tr>\n",
       "      <th>3614</th>\n",
       "      <td>YYZ to LHR - July 2012 - I flew overnight in p...</td>\n",
       "    </tr>\n",
       "    <tr>\n",
       "      <th>3615</th>\n",
       "      <td>LHR to HAM. Purser addresses all club passenge...</td>\n",
       "    </tr>\n",
       "    <tr>\n",
       "      <th>3616</th>\n",
       "      <td>My son who had worked for British Airways urge...</td>\n",
       "    </tr>\n",
       "    <tr>\n",
       "      <th>3617</th>\n",
       "      <td>London City-New York JFK via Shannon on A318 b...</td>\n",
       "    </tr>\n",
       "    <tr>\n",
       "      <th>3618</th>\n",
       "      <td>SIN-LHR BA12 B747-436 First Class. Old aircraf...</td>\n",
       "    </tr>\n",
       "  </tbody>\n",
       "</table>\n",
       "<p>3619 rows × 1 columns</p>\n",
       "</div>"
      ],
      "text/plain": [
       "                                                reviews\n",
       "0     Not Verified |  They lost my baggage in a very...\n",
       "1     ✅ Trip Verified |  Late boarding led to a one ...\n",
       "2     ✅ Trip Verified | As usual the flight is delay...\n",
       "3     ✅ Trip Verified |  I had the most fantastic BA...\n",
       "4     ✅ Trip Verified |  Couldn’t book in online. Ar...\n",
       "...                                                 ...\n",
       "3614  YYZ to LHR - July 2012 - I flew overnight in p...\n",
       "3615  LHR to HAM. Purser addresses all club passenge...\n",
       "3616  My son who had worked for British Airways urge...\n",
       "3617  London City-New York JFK via Shannon on A318 b...\n",
       "3618  SIN-LHR BA12 B747-436 First Class. Old aircraf...\n",
       "\n",
       "[3619 rows x 1 columns]"
      ]
     },
     "execution_count": 4,
     "metadata": {},
     "output_type": "execute_result"
    }
   ],
   "source": [
    "df=pd.DataFrame()\n",
    "df[\"reviews\"]=reviews\n",
    "df"
   ]
  },
  {
   "cell_type": "code",
   "execution_count": 5,
   "id": "10320d88",
   "metadata": {},
   "outputs": [],
   "source": [
    "df.to_csv(\"BA_reviews.csv\")"
   ]
  },
  {
   "cell_type": "code",
   "execution_count": 6,
   "id": "76eb7700",
   "metadata": {},
   "outputs": [
    {
     "data": {
      "text/html": [
       "<div>\n",
       "<style scoped>\n",
       "    .dataframe tbody tr th:only-of-type {\n",
       "        vertical-align: middle;\n",
       "    }\n",
       "\n",
       "    .dataframe tbody tr th {\n",
       "        vertical-align: top;\n",
       "    }\n",
       "\n",
       "    .dataframe thead th {\n",
       "        text-align: right;\n",
       "    }\n",
       "</style>\n",
       "<table border=\"1\" class=\"dataframe\">\n",
       "  <thead>\n",
       "    <tr style=\"text-align: right;\">\n",
       "      <th></th>\n",
       "      <th>reviews</th>\n",
       "    </tr>\n",
       "  </thead>\n",
       "  <tbody>\n",
       "    <tr>\n",
       "      <th>0</th>\n",
       "      <td>Not Verified |  They lost my baggage in a very...</td>\n",
       "    </tr>\n",
       "    <tr>\n",
       "      <th>1</th>\n",
       "      <td>✅ Trip Verified |  Late boarding led to a one ...</td>\n",
       "    </tr>\n",
       "    <tr>\n",
       "      <th>2</th>\n",
       "      <td>✅ Trip Verified | As usual the flight is delay...</td>\n",
       "    </tr>\n",
       "    <tr>\n",
       "      <th>3</th>\n",
       "      <td>✅ Trip Verified |  I had the most fantastic BA...</td>\n",
       "    </tr>\n",
       "    <tr>\n",
       "      <th>4</th>\n",
       "      <td>✅ Trip Verified |  Couldn’t book in online. Ar...</td>\n",
       "    </tr>\n",
       "    <tr>\n",
       "      <th>...</th>\n",
       "      <td>...</td>\n",
       "    </tr>\n",
       "    <tr>\n",
       "      <th>3614</th>\n",
       "      <td>YYZ to LHR - July 2012 - I flew overnight in p...</td>\n",
       "    </tr>\n",
       "    <tr>\n",
       "      <th>3615</th>\n",
       "      <td>LHR to HAM. Purser addresses all club passenge...</td>\n",
       "    </tr>\n",
       "    <tr>\n",
       "      <th>3616</th>\n",
       "      <td>My son who had worked for British Airways urge...</td>\n",
       "    </tr>\n",
       "    <tr>\n",
       "      <th>3617</th>\n",
       "      <td>London City-New York JFK via Shannon on A318 b...</td>\n",
       "    </tr>\n",
       "    <tr>\n",
       "      <th>3618</th>\n",
       "      <td>SIN-LHR BA12 B747-436 First Class. Old aircraf...</td>\n",
       "    </tr>\n",
       "  </tbody>\n",
       "</table>\n",
       "<p>3619 rows × 1 columns</p>\n",
       "</div>"
      ],
      "text/plain": [
       "                                                reviews\n",
       "0     Not Verified |  They lost my baggage in a very...\n",
       "1     ✅ Trip Verified |  Late boarding led to a one ...\n",
       "2     ✅ Trip Verified | As usual the flight is delay...\n",
       "3     ✅ Trip Verified |  I had the most fantastic BA...\n",
       "4     ✅ Trip Verified |  Couldn’t book in online. Ar...\n",
       "...                                                 ...\n",
       "3614  YYZ to LHR - July 2012 - I flew overnight in p...\n",
       "3615  LHR to HAM. Purser addresses all club passenge...\n",
       "3616  My son who had worked for British Airways urge...\n",
       "3617  London City-New York JFK via Shannon on A318 b...\n",
       "3618  SIN-LHR BA12 B747-436 First Class. Old aircraf...\n",
       "\n",
       "[3619 rows x 1 columns]"
      ]
     },
     "execution_count": 6,
     "metadata": {},
     "output_type": "execute_result"
    }
   ],
   "source": [
    "df"
   ]
  },
  {
   "cell_type": "markdown",
   "id": "806b99b6",
   "metadata": {},
   "source": [
    "# Read Dataset"
   ]
  },
  {
   "cell_type": "code",
   "execution_count": 7,
   "id": "64c142f6",
   "metadata": {},
   "outputs": [
    {
     "data": {
      "text/plain": [
       "0       Not Verified |  They lost my baggage in a very...\n",
       "1       ✅ Trip Verified |  Late boarding led to a one ...\n",
       "2       ✅ Trip Verified | As usual the flight is delay...\n",
       "3       ✅ Trip Verified |  I had the most fantastic BA...\n",
       "4       ✅ Trip Verified |  Couldn’t book in online. Ar...\n",
       "                              ...                        \n",
       "3614    YYZ to LHR - July 2012 - I flew overnight in p...\n",
       "3615    LHR to HAM. Purser addresses all club passenge...\n",
       "3616    My son who had worked for British Airways urge...\n",
       "3617    London City-New York JFK via Shannon on A318 b...\n",
       "3618    SIN-LHR BA12 B747-436 First Class. Old aircraf...\n",
       "Name: reviews, Length: 3619, dtype: object"
      ]
     },
     "execution_count": 7,
     "metadata": {},
     "output_type": "execute_result"
    }
   ],
   "source": [
    "reviews=pd.read_csv(\"BA_reviews.csv\")\n",
    "reviews=reviews.pop('reviews')\n",
    "reviews"
   ]
  },
  {
   "cell_type": "markdown",
   "id": "2f768fe3",
   "metadata": {},
   "source": [
    "# Clean text"
   ]
  },
  {
   "cell_type": "code",
   "execution_count": 8,
   "id": "8ac144d1",
   "metadata": {},
   "outputs": [],
   "source": [
    "def remove_punctuations(text):\n",
    "    for punctuation in string.punctuation:\n",
    "        text=text.replace(punctuation,'')\n",
    "    return text"
   ]
  },
  {
   "cell_type": "code",
   "execution_count": 10,
   "id": "f131d36f",
   "metadata": {},
   "outputs": [
    {
     "name": "stderr",
     "output_type": "stream",
     "text": [
      "/var/folders/by/d5yw39fn6q1_crqq1blv8v840000gn/T/ipykernel_1999/1080520598.py:1: FutureWarning: The default value of regex will change from True to False in a future version.\n",
      "  reviews=reviews.str.replace('Trip Verified |','')\n",
      "/var/folders/by/d5yw39fn6q1_crqq1blv8v840000gn/T/ipykernel_1999/1080520598.py:3: FutureWarning: The default value of regex will change from True to False in a future version. In addition, single character regular expressions will *not* be treated as literal strings when regex=True.\n",
      "  reviews=reviews.str.replace('|','')\n"
     ]
    },
    {
     "data": {
      "text/plain": [
       "0       Not Verified   They lost my baggage in a very ...\n",
       "1          Late boarding led to a one hour flight leav...\n",
       "2         As usual the flight is delayed BA try to bla...\n",
       "3          I had the most fantastic BA Flight today Th...\n",
       "4          Couldn’t book in online Arrived at check in...\n",
       "                              ...                        \n",
       "3614    YYZ to LHR  July 2012  I flew overnight in pre...\n",
       "3615    LHR to HAM Purser addresses all club passenger...\n",
       "3616    My son who had worked for British Airways urge...\n",
       "3617    London CityNew York JFK via Shannon on A318 bu...\n",
       "3618    SINLHR BA12 B747436 First Class Old aircraft 1...\n",
       "Name: reviews, Length: 3619, dtype: object"
      ]
     },
     "execution_count": 10,
     "metadata": {},
     "output_type": "execute_result"
    }
   ],
   "source": [
    "reviews=reviews.str.replace('Trip Verified |','')\n",
    "reviews=reviews.str.replace('✅','')\n",
    "reviews=reviews.str.replace('|','')\n",
    "reviews=reviews.apply(remove_punctuations)\n",
    "reviews"
   ]
  },
  {
   "cell_type": "code",
   "execution_count": 11,
   "id": "1a134769",
   "metadata": {},
   "outputs": [
    {
     "data": {
      "text/plain": [
       "(3619,)"
      ]
     },
     "execution_count": 11,
     "metadata": {},
     "output_type": "execute_result"
    }
   ],
   "source": [
    "reviews.shape"
   ]
  },
  {
   "cell_type": "code",
   "execution_count": 19,
   "id": "acdcd272",
   "metadata": {},
   "outputs": [
    {
     "data": {
      "text/plain": [
       "the        29151\n",
       "to         19314\n",
       "and        17911\n",
       "a          13266\n",
       "was        12756\n",
       "i          10648\n",
       "of          8354\n",
       "in          8254\n",
       "on          7827\n",
       "flight      6427\n",
       "for         6177\n",
       "with        5789\n",
       "not         4588\n",
       "is          4587\n",
       "were        4394\n",
       "ba          4379\n",
       "it          4278\n",
       "that        4177\n",
       "we          4134\n",
       "my          4079\n",
       "but         3894\n",
       "at          3777\n",
       "this        3541\n",
       "they        3473\n",
       "had         3457\n",
       "as          3428\n",
       "have        3297\n",
       "from        3019\n",
       "no          2907\n",
       "very        2779\n",
       "service     2756\n",
       "seat        2337\n",
       "be          2327\n",
       "food        2315\n",
       "london      2138\n",
       "you         2135\n",
       "so          2132\n",
       "crew        2109\n",
       "british     2101\n",
       "airways     2084\n",
       "seats       2072\n",
       "are         2052\n",
       "good        2039\n",
       "an          2007\n",
       "time        1994\n",
       "cabin       1934\n",
       "me          1919\n",
       "which       1860\n",
       "class       1822\n",
       "there       1698\n",
       "dtype: int64"
      ]
     },
     "execution_count": 19,
     "metadata": {},
     "output_type": "execute_result"
    }
   ],
   "source": [
    "freq_words=pd.Series(' '.join(reviews).lower().split()).value_counts()[:50]\n",
    "freq_words"
   ]
  },
  {
   "cell_type": "code",
   "execution_count": 20,
   "id": "73d373c3",
   "metadata": {},
   "outputs": [
    {
     "data": {
      "image/png": "[encoded data removed]",
      "text/plain": [
       "<Figure size 1000x1000 with 1 Axes>"
      ]
     },
     "metadata": {},
     "output_type": "display_data"
    }
   ],
   "source": [
    "plt.figure(figsize=(10,10))\n",
    "freq_words.plot.barh(x=freq_words[0],y=freq_words[1])\n",
    "plt.show()"
   ]
  },
  {
   "cell_type": "markdown",
   "id": "397be00b",
   "metadata": {},
   "source": [
    "# Text Clustering"
   ]
  },
  {
   "cell_type": "code",
   "execution_count": 21,
   "id": "cfa7b465",
   "metadata": {},
   "outputs": [
    {
     "data": {
      "text/plain": [
       "2"
      ]
     },
     "execution_count": 21,
     "metadata": {},
     "output_type": "execute_result"
    }
   ],
   "source": [
    "categories=['negative','positive']\n",
    "num_cat=len(categories)\n",
    "num_cat"
   ]
  },
  {
   "cell_type": "code",
   "execution_count": 24,
   "id": "dc1b59d6",
   "metadata": {},
   "outputs": [
    {
     "data": {
      "text/plain": [
       "(3619, 15169)"
      ]
     },
     "execution_count": 24,
     "metadata": {},
     "output_type": "execute_result"
    }
   ],
   "source": [
    "# TF-IDF Feature Generation\n",
    "from sklearn.feature_extraction.text import TfidfVectorizer\n",
    "from nltk.tokenize import RegexpTokenizer\n",
    "\n",
    "#Initialize regex tokenizer\n",
    "tokenizer=RegexpTokenizer(r'\\w+')\n",
    "\n",
    "\n",
    "# #Vectorize document using TF-IDF \n",
    "tf_idf_vect=TfidfVectorizer(lowercase='True',\n",
    "                           stop_words='english',\n",
    "                           ngram_range=(1,1),\n",
    "                           tokenizer=tokenizer.tokenize)\n",
    "\n",
    "#Fit and transform text from data\n",
    "reviews_counts=tf_idf_vect.fit_transform(reviews)\n",
    "\n",
    "#Check shape of count vector\n",
    "reviews_counts.shape"
   ]
  },
  {
   "cell_type": "code",
   "execution_count": 25,
   "id": "6cdb5930",
   "metadata": {},
   "outputs": [
    {
     "data": {
      "text/plain": [
       "array([0, 0, 0, ..., 0, 1, 1], dtype=int32)"
      ]
     },
     "execution_count": 25,
     "metadata": {},
     "output_type": "execute_result"
    }
   ],
   "source": [
    "#Import Kmeans model\n",
    "from sklearn.cluster import KMeans\n",
    "\n",
    "#Create KMeans Object and fit it to the training data \n",
    "kmeans=KMeans(n_clusters=num_cat).fit(reviews_counts)\n",
    "\n",
    "#Get the labels using KMeans\n",
    "pred_labels=kmeans.labels_\n",
    "pred_labels"
   ]
  },
  {
   "cell_type": "code",
   "execution_count": 29,
   "id": "471a63a5",
   "metadata": {},
   "outputs": [
    {
     "data": {
      "text/plain": [
       "array([[4.52682168e-04, 0.00000000e+00, 0.00000000e+00, ...,\n",
       "        0.00000000e+00, 0.00000000e+00, 4.63770831e-05],\n",
       "       [2.20170301e-04, 6.78199891e-05, 6.25984187e-05, ...,\n",
       "        6.21485223e-05, 8.98529908e-05, 0.00000000e+00]])"
      ]
     },
     "execution_count": 29,
     "metadata": {},
     "output_type": "execute_result"
    }
   ],
   "source": [
    "clusters = kmeans.cluster_centers_\n",
    "clusters"
   ]
  },
  {
   "cell_type": "code",
   "execution_count": 31,
   "id": "ea0a19db",
   "metadata": {},
   "outputs": [
    {
     "data": {
      "text/plain": [
       "{0: 1433, 1: 2186}"
      ]
     },
     "execution_count": 31,
     "metadata": {},
     "output_type": "execute_result"
    }
   ],
   "source": [
    "unique,counts=ny.unique(pred_labels,return_counts=True)\n",
    "dict(zip(unique,counts))"
   ]
  },
  {
   "cell_type": "code",
   "execution_count": 32,
   "id": "d8ac59e8",
   "metadata": {},
   "outputs": [],
   "source": [
    "from sklearn import metrics"
   ]
  },
  {
   "cell_type": "code",
   "execution_count": 37,
   "id": "c64ad1dd",
   "metadata": {},
   "outputs": [],
   "source": [
    "#Compute DBI score\n",
    "#dbi=metrics.davies_bouldin_score(df_reviews_counts.toarray(),pred_lables)\n",
    "\n",
    "#Compute Silhoutte Score\n",
    "#ss=metrics.silhouette_score(df_reviews_counts.toarray(),pred_labels,metric='euclidean')\n",
    "\n",
    "#Print thr DBI and Silhoutte Scores\n",
    "#print(\"DBI Score: \",dbi,\"\\nSilhoutte Score: \",ss)"
   ]
  },
  {
   "cell_type": "code",
   "execution_count": 38,
   "id": "d7019f31",
   "metadata": {},
   "outputs": [
    {
     "data": {
      "text/html": [
       "<div>\n",
       "<style scoped>\n",
       "    .dataframe tbody tr th:only-of-type {\n",
       "        vertical-align: middle;\n",
       "    }\n",
       "\n",
       "    .dataframe tbody tr th {\n",
       "        vertical-align: top;\n",
       "    }\n",
       "\n",
       "    .dataframe thead th {\n",
       "        text-align: right;\n",
       "    }\n",
       "</style>\n",
       "<table border=\"1\" class=\"dataframe\">\n",
       "  <thead>\n",
       "    <tr style=\"text-align: right;\">\n",
       "      <th></th>\n",
       "      <th>review</th>\n",
       "      <th>label</th>\n",
       "    </tr>\n",
       "  </thead>\n",
       "  <tbody>\n",
       "    <tr>\n",
       "      <th>0</th>\n",
       "      <td>Not Verified   They lost my baggage in a very ...</td>\n",
       "      <td>0</td>\n",
       "    </tr>\n",
       "    <tr>\n",
       "      <th>1</th>\n",
       "      <td>Late boarding led to a one hour flight leav...</td>\n",
       "      <td>0</td>\n",
       "    </tr>\n",
       "    <tr>\n",
       "      <th>2</th>\n",
       "      <td>As usual the flight is delayed BA try to bla...</td>\n",
       "      <td>0</td>\n",
       "    </tr>\n",
       "    <tr>\n",
       "      <th>3</th>\n",
       "      <td>I had the most fantastic BA Flight today Th...</td>\n",
       "      <td>1</td>\n",
       "    </tr>\n",
       "    <tr>\n",
       "      <th>4</th>\n",
       "      <td>Couldn’t book in online Arrived at check in...</td>\n",
       "      <td>0</td>\n",
       "    </tr>\n",
       "    <tr>\n",
       "      <th>...</th>\n",
       "      <td>...</td>\n",
       "      <td>...</td>\n",
       "    </tr>\n",
       "    <tr>\n",
       "      <th>3614</th>\n",
       "      <td>YYZ to LHR  July 2012  I flew overnight in pre...</td>\n",
       "      <td>1</td>\n",
       "    </tr>\n",
       "    <tr>\n",
       "      <th>3615</th>\n",
       "      <td>LHR to HAM Purser addresses all club passenger...</td>\n",
       "      <td>1</td>\n",
       "    </tr>\n",
       "    <tr>\n",
       "      <th>3616</th>\n",
       "      <td>My son who had worked for British Airways urge...</td>\n",
       "      <td>0</td>\n",
       "    </tr>\n",
       "    <tr>\n",
       "      <th>3617</th>\n",
       "      <td>London CityNew York JFK via Shannon on A318 bu...</td>\n",
       "      <td>1</td>\n",
       "    </tr>\n",
       "    <tr>\n",
       "      <th>3618</th>\n",
       "      <td>SINLHR BA12 B747436 First Class Old aircraft 1...</td>\n",
       "      <td>1</td>\n",
       "    </tr>\n",
       "  </tbody>\n",
       "</table>\n",
       "<p>3619 rows × 2 columns</p>\n",
       "</div>"
      ],
      "text/plain": [
       "                                                 review  label\n",
       "0     Not Verified   They lost my baggage in a very ...      0\n",
       "1        Late boarding led to a one hour flight leav...      0\n",
       "2       As usual the flight is delayed BA try to bla...      0\n",
       "3        I had the most fantastic BA Flight today Th...      1\n",
       "4        Couldn’t book in online Arrived at check in...      0\n",
       "...                                                 ...    ...\n",
       "3614  YYZ to LHR  July 2012  I flew overnight in pre...      1\n",
       "3615  LHR to HAM Purser addresses all club passenger...      1\n",
       "3616  My son who had worked for British Airways urge...      0\n",
       "3617  London CityNew York JFK via Shannon on A318 bu...      1\n",
       "3618  SINLHR BA12 B747436 First Class Old aircraft 1...      1\n",
       "\n",
       "[3619 rows x 2 columns]"
      ]
     },
     "execution_count": 38,
     "metadata": {},
     "output_type": "execute_result"
    }
   ],
   "source": [
    "df_reviews=pd.DataFrame({'review':reviews,'label':pred_labels})\n",
    "df_reviews"
   ]
  },
  {
   "cell_type": "code",
   "execution_count": 40,
   "id": "cb4b0f16",
   "metadata": {},
   "outputs": [
    {
     "data": {
      "text/plain": [
       "<seaborn.axisgrid.FacetGrid at 0x7fd91cdb0610>"
      ]
     },
     "execution_count": 40,
     "metadata": {},
     "output_type": "execute_result"
    },
    {
     "data": {
      "image/png": "[encoded data removed]",
      "text/plain": [
       "<Figure size 500x500 with 1 Axes>"
      ]
     },
     "metadata": {},
     "output_type": "display_data"
    }
   ],
   "source": [
    "sns.displot(df_reviews['label'],kde='True')"
   ]
  },
  {
   "cell_type": "code",
   "execution_count": 41,
   "id": "cb3595f8",
   "metadata": {},
   "outputs": [
    {
     "data": {
      "text/html": [
       "<div>\n",
       "<style scoped>\n",
       "    .dataframe tbody tr th:only-of-type {\n",
       "        vertical-align: middle;\n",
       "    }\n",
       "\n",
       "    .dataframe tbody tr th {\n",
       "        vertical-align: top;\n",
       "    }\n",
       "\n",
       "    .dataframe thead th {\n",
       "        text-align: right;\n",
       "    }\n",
       "</style>\n",
       "<table border=\"1\" class=\"dataframe\">\n",
       "  <thead>\n",
       "    <tr style=\"text-align: right;\">\n",
       "      <th></th>\n",
       "      <th>review</th>\n",
       "      <th>label</th>\n",
       "    </tr>\n",
       "  </thead>\n",
       "  <tbody>\n",
       "    <tr>\n",
       "      <th>3</th>\n",
       "      <td>I had the most fantastic BA Flight today Th...</td>\n",
       "      <td>1</td>\n",
       "    </tr>\n",
       "    <tr>\n",
       "      <th>5</th>\n",
       "      <td>London Heathrow to Mumbai in a Boeing 7878 i...</td>\n",
       "      <td>1</td>\n",
       "    </tr>\n",
       "    <tr>\n",
       "      <th>6</th>\n",
       "      <td>Keflavík Iceland to London Heathrow on an A3...</td>\n",
       "      <td>1</td>\n",
       "    </tr>\n",
       "    <tr>\n",
       "      <th>14</th>\n",
       "      <td>Not Verified   Fast and friendly check in tota...</td>\n",
       "      <td>1</td>\n",
       "    </tr>\n",
       "    <tr>\n",
       "      <th>15</th>\n",
       "      <td>I dont understand why British Airways is cl...</td>\n",
       "      <td>1</td>\n",
       "    </tr>\n",
       "    <tr>\n",
       "      <th>...</th>\n",
       "      <td>...</td>\n",
       "      <td>...</td>\n",
       "    </tr>\n",
       "    <tr>\n",
       "      <th>3613</th>\n",
       "      <td>HKGLHR in New Club World on Boeing 777300  260...</td>\n",
       "      <td>1</td>\n",
       "    </tr>\n",
       "    <tr>\n",
       "      <th>3614</th>\n",
       "      <td>YYZ to LHR  July 2012  I flew overnight in pre...</td>\n",
       "      <td>1</td>\n",
       "    </tr>\n",
       "    <tr>\n",
       "      <th>3615</th>\n",
       "      <td>LHR to HAM Purser addresses all club passenger...</td>\n",
       "      <td>1</td>\n",
       "    </tr>\n",
       "    <tr>\n",
       "      <th>3617</th>\n",
       "      <td>London CityNew York JFK via Shannon on A318 bu...</td>\n",
       "      <td>1</td>\n",
       "    </tr>\n",
       "    <tr>\n",
       "      <th>3618</th>\n",
       "      <td>SINLHR BA12 B747436 First Class Old aircraft 1...</td>\n",
       "      <td>1</td>\n",
       "    </tr>\n",
       "  </tbody>\n",
       "</table>\n",
       "<p>2186 rows × 2 columns</p>\n",
       "</div>"
      ],
      "text/plain": [
       "                                                 review  label\n",
       "3        I had the most fantastic BA Flight today Th...      1\n",
       "5       London Heathrow to Mumbai in a Boeing 7878 i...      1\n",
       "6       Keflavík Iceland to London Heathrow on an A3...      1\n",
       "14    Not Verified   Fast and friendly check in tota...      1\n",
       "15       I dont understand why British Airways is cl...      1\n",
       "...                                                 ...    ...\n",
       "3613  HKGLHR in New Club World on Boeing 777300  260...      1\n",
       "3614  YYZ to LHR  July 2012  I flew overnight in pre...      1\n",
       "3615  LHR to HAM Purser addresses all club passenger...      1\n",
       "3617  London CityNew York JFK via Shannon on A318 bu...      1\n",
       "3618  SINLHR BA12 B747436 First Class Old aircraft 1...      1\n",
       "\n",
       "[2186 rows x 2 columns]"
      ]
     },
     "execution_count": 41,
     "metadata": {},
     "output_type": "execute_result"
    }
   ],
   "source": [
    "positive_review=df_reviews[df_reviews['label']==1]\n",
    "positive_review"
   ]
  },
  {
   "cell_type": "code",
   "execution_count": 42,
   "id": "a76dcaf4",
   "metadata": {},
   "outputs": [
    {
     "data": {
      "text/html": [
       "<div>\n",
       "<style scoped>\n",
       "    .dataframe tbody tr th:only-of-type {\n",
       "        vertical-align: middle;\n",
       "    }\n",
       "\n",
       "    .dataframe tbody tr th {\n",
       "        vertical-align: top;\n",
       "    }\n",
       "\n",
       "    .dataframe thead th {\n",
       "        text-align: right;\n",
       "    }\n",
       "</style>\n",
       "<table border=\"1\" class=\"dataframe\">\n",
       "  <thead>\n",
       "    <tr style=\"text-align: right;\">\n",
       "      <th></th>\n",
       "      <th>review</th>\n",
       "      <th>label</th>\n",
       "    </tr>\n",
       "  </thead>\n",
       "  <tbody>\n",
       "    <tr>\n",
       "      <th>0</th>\n",
       "      <td>Not Verified   They lost my baggage in a very ...</td>\n",
       "      <td>0</td>\n",
       "    </tr>\n",
       "    <tr>\n",
       "      <th>1</th>\n",
       "      <td>Late boarding led to a one hour flight leav...</td>\n",
       "      <td>0</td>\n",
       "    </tr>\n",
       "    <tr>\n",
       "      <th>2</th>\n",
       "      <td>As usual the flight is delayed BA try to bla...</td>\n",
       "      <td>0</td>\n",
       "    </tr>\n",
       "    <tr>\n",
       "      <th>4</th>\n",
       "      <td>Couldn’t book in online Arrived at check in...</td>\n",
       "      <td>0</td>\n",
       "    </tr>\n",
       "    <tr>\n",
       "      <th>7</th>\n",
       "      <td>Terrible Experience with British Airways I b...</td>\n",
       "      <td>0</td>\n",
       "    </tr>\n",
       "    <tr>\n",
       "      <th>...</th>\n",
       "      <td>...</td>\n",
       "      <td>...</td>\n",
       "    </tr>\n",
       "    <tr>\n",
       "      <th>3597</th>\n",
       "      <td>Im not normally one to whine but here goes LHR...</td>\n",
       "      <td>0</td>\n",
       "    </tr>\n",
       "    <tr>\n",
       "      <th>3608</th>\n",
       "      <td>Business LHR to BKK 747400 First try back with...</td>\n",
       "      <td>0</td>\n",
       "    </tr>\n",
       "    <tr>\n",
       "      <th>3609</th>\n",
       "      <td>This was a bmi Regional operated flight on a R...</td>\n",
       "      <td>0</td>\n",
       "    </tr>\n",
       "    <tr>\n",
       "      <th>3611</th>\n",
       "      <td>Just got back from Bridgetown Barbados flying ...</td>\n",
       "      <td>0</td>\n",
       "    </tr>\n",
       "    <tr>\n",
       "      <th>3616</th>\n",
       "      <td>My son who had worked for British Airways urge...</td>\n",
       "      <td>0</td>\n",
       "    </tr>\n",
       "  </tbody>\n",
       "</table>\n",
       "<p>1433 rows × 2 columns</p>\n",
       "</div>"
      ],
      "text/plain": [
       "                                                 review  label\n",
       "0     Not Verified   They lost my baggage in a very ...      0\n",
       "1        Late boarding led to a one hour flight leav...      0\n",
       "2       As usual the flight is delayed BA try to bla...      0\n",
       "4        Couldn’t book in online Arrived at check in...      0\n",
       "7       Terrible Experience with British Airways I b...      0\n",
       "...                                                 ...    ...\n",
       "3597  Im not normally one to whine but here goes LHR...      0\n",
       "3608  Business LHR to BKK 747400 First try back with...      0\n",
       "3609  This was a bmi Regional operated flight on a R...      0\n",
       "3611  Just got back from Bridgetown Barbados flying ...      0\n",
       "3616  My son who had worked for British Airways urge...      0\n",
       "\n",
       "[1433 rows x 2 columns]"
      ]
     },
     "execution_count": 42,
     "metadata": {},
     "output_type": "execute_result"
    }
   ],
   "source": [
    "negative_review=df_reviews[df_reviews['label']==0]\n",
    "negative_review"
   ]
  },
  {
   "cell_type": "code",
   "execution_count": null,
   "id": "2651d367",
   "metadata": {},
   "outputs": [],
   "source": []
  }
 ],
 "metadata": {
  "kernelspec": {
   "display_name": "Python 3 (ipykernel)",
   "language": "python",
   "name": "python3"
  },
  "language_info": {
   "codemirror_mode": {
    "name": "ipython",
    "version": 3
   },
   "file_extension": ".py",
   "mimetype": "text/x-python",
   "name": "python",
   "nbconvert_exporter": "python",
   "pygments_lexer": "ipython3",
   "version": "3.9.13"
  }
 },
 "nbformat": 4,
 "nbformat_minor": 5
}
